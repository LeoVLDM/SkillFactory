{
 "cells": [
  {
   "cell_type": "code",
   "execution_count": 1,
   "metadata": {
    "_cell_guid": "b1076dfc-b9ad-4769-8c92-a6c4dae69d19",
    "_uuid": "8f2839f25d086af736a60e9eeb907d3b93b6e0e5",
    "colab": {},
    "colab_type": "code",
    "id": "U2D2gTdJVp90"
   },
   "outputs": [],
   "source": [
    "import numpy as np\n",
    "import pandas as pd\n",
    "import seaborn as sns\n",
    "import matplotlib.pyplot as plt\n",
    "from collections import Counter\n",
    "import itertools as it"
   ]
  },
  {
   "cell_type": "code",
   "execution_count": 2,
   "metadata": {
    "_cell_guid": "79c7e3d0-c299-4dcb-8224-4455121ee9b0",
    "_uuid": "d629ff2d2480ee46fbb7e2d37f6b5fab8052498a",
    "colab": {},
    "colab_type": "code",
    "id": "oyGfxL3eVp9-"
   },
   "outputs": [
    {
     "data": {
      "text/html": [
       "<div>\n",
       "<style scoped>\n",
       "    .dataframe tbody tr th:only-of-type {\n",
       "        vertical-align: middle;\n",
       "    }\n",
       "\n",
       "    .dataframe tbody tr th {\n",
       "        vertical-align: top;\n",
       "    }\n",
       "\n",
       "    .dataframe thead th {\n",
       "        text-align: right;\n",
       "    }\n",
       "</style>\n",
       "<table border=\"1\" class=\"dataframe\">\n",
       "  <thead>\n",
       "    <tr style=\"text-align: right;\">\n",
       "      <th></th>\n",
       "      <th>imdb_id</th>\n",
       "      <th>budget</th>\n",
       "      <th>revenue</th>\n",
       "      <th>original_title</th>\n",
       "      <th>cast</th>\n",
       "      <th>director</th>\n",
       "      <th>tagline</th>\n",
       "      <th>overview</th>\n",
       "      <th>runtime</th>\n",
       "      <th>genres</th>\n",
       "      <th>production_companies</th>\n",
       "      <th>release_date</th>\n",
       "      <th>vote_average</th>\n",
       "      <th>release_year</th>\n",
       "    </tr>\n",
       "  </thead>\n",
       "  <tbody>\n",
       "    <tr>\n",
       "      <th>1173</th>\n",
       "      <td>tt0335563</td>\n",
       "      <td>5000000</td>\n",
       "      <td>2466444</td>\n",
       "      <td>Wonderland</td>\n",
       "      <td>Val Kilmer|Dylan McDermott|Kate Bosworth|Josh ...</td>\n",
       "      <td>James Cox</td>\n",
       "      <td>Sex, drugs, murder. Welcome to L.A.</td>\n",
       "      <td>On the afternoon of July 1, 1981, Los Angeles ...</td>\n",
       "      <td>104</td>\n",
       "      <td>Crime|Drama|Mystery|Thriller</td>\n",
       "      <td>Lions Gate Films</td>\n",
       "      <td>10/23/2003</td>\n",
       "      <td>6.4</td>\n",
       "      <td>2003</td>\n",
       "    </tr>\n",
       "    <tr>\n",
       "      <th>850</th>\n",
       "      <td>tt1533749</td>\n",
       "      <td>29000000</td>\n",
       "      <td>33662874</td>\n",
       "      <td>Xin shao lin si</td>\n",
       "      <td>Andy Lau|Nicholas Tse|Fan Bingbing|Jackie Chan...</td>\n",
       "      <td>Benny Chan</td>\n",
       "      <td>In a land torn by strife, the righteous monks ...</td>\n",
       "      <td>China is plunged into strife as feuding warlor...</td>\n",
       "      <td>131</td>\n",
       "      <td>Action|Drama</td>\n",
       "      <td>Emperor Motion Pictures|China Film Group Corpo...</td>\n",
       "      <td>1/20/2011</td>\n",
       "      <td>6.4</td>\n",
       "      <td>2011</td>\n",
       "    </tr>\n",
       "    <tr>\n",
       "      <th>812</th>\n",
       "      <td>tt0477302</td>\n",
       "      <td>40000000</td>\n",
       "      <td>55247881</td>\n",
       "      <td>Extremely Loud &amp; Incredibly Close</td>\n",
       "      <td>Thomas Horn|Tom Hanks|Sandra Bullock|Max von S...</td>\n",
       "      <td>Stephen Daldry</td>\n",
       "      <td>This is not a story about September 11th, it's...</td>\n",
       "      <td>A year after his father's death, Oskar, a trou...</td>\n",
       "      <td>129</td>\n",
       "      <td>Drama</td>\n",
       "      <td>Paramount Pictures|Scott Rudin Productions|War...</td>\n",
       "      <td>12/24/2011</td>\n",
       "      <td>7.0</td>\n",
       "      <td>2011</td>\n",
       "    </tr>\n",
       "    <tr>\n",
       "      <th>228</th>\n",
       "      <td>tt1216491</td>\n",
       "      <td>5000000</td>\n",
       "      <td>2450846</td>\n",
       "      <td>Kill the Messenger</td>\n",
       "      <td>Jeremy Renner|Mary Elizabeth Winstead|Michael ...</td>\n",
       "      <td>Michael Cuesta</td>\n",
       "      <td>Can you keep a National Secret?</td>\n",
       "      <td>A reporter becomes the target of a vicious sme...</td>\n",
       "      <td>112</td>\n",
       "      <td>Thriller|Crime|Drama|Mystery</td>\n",
       "      <td>The Combine|Bluegrass Films</td>\n",
       "      <td>10/9/2014</td>\n",
       "      <td>6.5</td>\n",
       "      <td>2014</td>\n",
       "    </tr>\n",
       "    <tr>\n",
       "      <th>911</th>\n",
       "      <td>tt0322802</td>\n",
       "      <td>5000000</td>\n",
       "      <td>64282312</td>\n",
       "      <td>Jackass: The Movie</td>\n",
       "      <td>Johnny Knoxville|Bam Margera|Steve-O|Chris Pon...</td>\n",
       "      <td>Jeff Tremaine</td>\n",
       "      <td>Do not attempt this at home.</td>\n",
       "      <td>Johnny Knoxville and his crazy friends appear ...</td>\n",
       "      <td>87</td>\n",
       "      <td>Comedy</td>\n",
       "      <td>Paramount Pictures</td>\n",
       "      <td>10/21/2002</td>\n",
       "      <td>6.2</td>\n",
       "      <td>2002</td>\n",
       "    </tr>\n",
       "  </tbody>\n",
       "</table>\n",
       "</div>"
      ],
      "text/plain": [
       "        imdb_id    budget   revenue                     original_title  \\\n",
       "1173  tt0335563   5000000   2466444                         Wonderland   \n",
       "850   tt1533749  29000000  33662874                    Xin shao lin si   \n",
       "812   tt0477302  40000000  55247881  Extremely Loud & Incredibly Close   \n",
       "228   tt1216491   5000000   2450846                 Kill the Messenger   \n",
       "911   tt0322802   5000000  64282312                 Jackass: The Movie   \n",
       "\n",
       "                                                   cast        director  \\\n",
       "1173  Val Kilmer|Dylan McDermott|Kate Bosworth|Josh ...       James Cox   \n",
       "850   Andy Lau|Nicholas Tse|Fan Bingbing|Jackie Chan...      Benny Chan   \n",
       "812   Thomas Horn|Tom Hanks|Sandra Bullock|Max von S...  Stephen Daldry   \n",
       "228   Jeremy Renner|Mary Elizabeth Winstead|Michael ...  Michael Cuesta   \n",
       "911   Johnny Knoxville|Bam Margera|Steve-O|Chris Pon...   Jeff Tremaine   \n",
       "\n",
       "                                                tagline  \\\n",
       "1173                Sex, drugs, murder. Welcome to L.A.   \n",
       "850   In a land torn by strife, the righteous monks ...   \n",
       "812   This is not a story about September 11th, it's...   \n",
       "228                     Can you keep a National Secret?   \n",
       "911                        Do not attempt this at home.   \n",
       "\n",
       "                                               overview  runtime  \\\n",
       "1173  On the afternoon of July 1, 1981, Los Angeles ...      104   \n",
       "850   China is plunged into strife as feuding warlor...      131   \n",
       "812   A year after his father's death, Oskar, a trou...      129   \n",
       "228   A reporter becomes the target of a vicious sme...      112   \n",
       "911   Johnny Knoxville and his crazy friends appear ...       87   \n",
       "\n",
       "                            genres  \\\n",
       "1173  Crime|Drama|Mystery|Thriller   \n",
       "850                   Action|Drama   \n",
       "812                          Drama   \n",
       "228   Thriller|Crime|Drama|Mystery   \n",
       "911                         Comedy   \n",
       "\n",
       "                                   production_companies release_date  \\\n",
       "1173                                   Lions Gate Films   10/23/2003   \n",
       "850   Emperor Motion Pictures|China Film Group Corpo...    1/20/2011   \n",
       "812   Paramount Pictures|Scott Rudin Productions|War...   12/24/2011   \n",
       "228                         The Combine|Bluegrass Films    10/9/2014   \n",
       "911                                  Paramount Pictures   10/21/2002   \n",
       "\n",
       "      vote_average  release_year  \n",
       "1173           6.4          2003  \n",
       "850            6.4          2011  \n",
       "812            7.0          2011  \n",
       "228            6.5          2014  \n",
       "911            6.2          2002  "
      ]
     },
     "execution_count": 2,
     "metadata": {},
     "output_type": "execute_result"
    }
   ],
   "source": [
    "data = pd.read_csv('movie_bd_v5.csv')\n",
    "data.sample(5)"
   ]
  },
  {
   "cell_type": "code",
   "execution_count": 3,
   "metadata": {
    "colab": {},
    "colab_type": "code",
    "id": "CoYUnagMVp-C"
   },
   "outputs": [],
   "source": [
    "# data.describe()"
   ]
  },
  {
   "cell_type": "markdown",
   "metadata": {
    "colab_type": "text",
    "id": "DTIt7ezGVp-G"
   },
   "source": [
    "# Предобработка"
   ]
  },
  {
   "cell_type": "code",
   "execution_count": 4,
   "metadata": {
    "colab": {},
    "colab_type": "code",
    "id": "jNb40DwKVp-H"
   },
   "outputs": [],
   "source": [
    "answers = {} # создадим словарь для ответов\n",
    "\n",
    "# тут другие ваши предобработки колонок например:\n",
    "\n",
    "#the time given in the dataset is in string format.\n",
    "#So we need to change this in datetime format\n",
    "# ...\n",
    "\n",
    "# информация о структуре таблицы\n",
    "# data.info(verbose=True, memory_usage=False, show_counts=True)\n",
    "\n",
    "# добавляет колонку прибыльности фильма\n",
    "data['profit'] = data.revenue - data.budget\n",
    "\n",
    "# изменяет формат даты и добавляет колонку месяца релиза\n",
    "data['release_date'] = pd.to_datetime(data['release_date'])\n",
    "data['release_month'] = data['release_date'].dt.month\n",
    "\n",
    "\n",
    "# словарь месяцев\n",
    "month_dict = {\n",
    "    1:'Январь', 2:'Февраль', 3:'Март',\n",
    "    4:'Апрель', 5:'Май', 6:'Июнь', \n",
    "    7:'Июль', 8:'Август', 9:'Сентябрь', \n",
    "    10:'Октябрь', 11:'Ноябрь', 12:'Декабрь', \n",
    "}\n",
    "df_month = pd.DataFrame(['Январь', 'Февраль', 'Март', 'Апрель', 'Май', 'Июнь', \n",
    "                        'Июль', 'Август', 'Сентябрь', 'Октябрь', 'Ноябрь', 'Декабрь'],\n",
    "                      index=[1, 2, 3, 4, 5, 6, 7, 8, 9, 10, 11, 12],\n",
    "                    columns=['month'])\n",
    "\n",
    "# словарь времён года\n",
    "time_dict = {\n",
    "    'Осень': [9, 10, 11],\n",
    "    'Зима' : [12, 1, 2], \n",
    "    'Весна': [3, 4, 5],\n",
    "    'Лето' : [6, 7, 8], \n",
    "}"
   ]
  },
  {
   "cell_type": "markdown",
   "metadata": {
    "colab_type": "text",
    "id": "YxZaH-nPVp-L"
   },
   "source": [
    "# 1. У какого фильма из списка самый большой бюджет?"
   ]
  },
  {
   "cell_type": "markdown",
   "metadata": {
    "colab_type": "text",
    "id": "Nd-G5gX6Vp-M"
   },
   "source": [
    "Использовать варианты ответов в коде решения запрещено.    \n",
    "Вы думаете и в жизни у вас будут варианты ответов?)"
   ]
  },
  {
   "cell_type": "code",
   "execution_count": 5,
   "metadata": {
    "colab": {},
    "colab_type": "code",
    "id": "uVnXAY5RVp-O"
   },
   "outputs": [],
   "source": [
    "# в словарь вставляем номер вопроса и ваш ответ на него\n",
    "# Пример: \n",
    "# answers['1'] = '2. Spider-Man 3 (tt0413300)'\n",
    "# запишите свой вариант ответа\n",
    "# answers['1'] = '...'\n",
    "# если ответили верно, можете добавить комментарий со значком \"+\""
   ]
  },
  {
   "cell_type": "code",
   "execution_count": 6,
   "metadata": {
    "colab": {},
    "colab_type": "code",
    "id": "dZwb3m28Vp-S"
   },
   "outputs": [
    {
     "name": "stdout",
     "output_type": "stream",
     "text": [
      "Pirates of the Caribbean: On Stranger Tides (tt1298650)\n"
     ]
    }
   ],
   "source": [
    "data_tmp = data[data.budget == data.budget.max()]  # получение фильма с максимальным бюджетом\n",
    "\n",
    "# далее получение названия и imdb_id фильма без индексов и сохранение в словарь с ответами\n",
    "original_title = data_tmp.original_title.to_string(index=False)\n",
    "imdb_id = data_tmp.imdb_id.to_string(index=False)\n",
    "answers['1'] = f\"{original_title} ({imdb_id})\"\n",
    "\n",
    "print(answers['1'])  # вывод ответа для проверки"
   ]
  },
  {
   "cell_type": "markdown",
   "metadata": {
    "colab_type": "text",
    "id": "K7L3nbRXVp-X"
   },
   "source": [
    "ВАРИАНТ 2"
   ]
  },
  {
   "cell_type": "code",
   "execution_count": 7,
   "metadata": {
    "colab": {},
    "colab_type": "code",
    "id": "OGaoQI7rVp-X"
   },
   "outputs": [],
   "source": [
    "# можно добавлять разные варианты решения\n",
    "\n",
    "# а мне лень, впереди ещё куча вопросов )"
   ]
  },
  {
   "cell_type": "markdown",
   "metadata": {
    "colab_type": "text",
    "id": "FNRbbI3vVp-c"
   },
   "source": [
    "# 2. Какой из фильмов самый длительный (в минутах)?"
   ]
  },
  {
   "cell_type": "code",
   "execution_count": 8,
   "metadata": {
    "colab": {},
    "colab_type": "code",
    "id": "vHAoEXNTVp-d"
   },
   "outputs": [],
   "source": [
    "# думаю логику работы с этим словарем вы уже поняли, \n",
    "# по этому не буду больше его дублировать\n",
    "# answers['2'] = '...'"
   ]
  },
  {
   "cell_type": "code",
   "execution_count": 9,
   "metadata": {
    "colab": {},
    "colab_type": "code",
    "id": "ot-VX2XrVp-g"
   },
   "outputs": [
    {
     "name": "stdout",
     "output_type": "stream",
     "text": [
      "Gods and Generals (tt0279111)\n"
     ]
    }
   ],
   "source": [
    "data_tmp = data[data.runtime == data.runtime.max()]  # получение самого продолжительного фильма\n",
    "\n",
    "# далее получение названия и imdb_id фильма без индексов и сохранение в словарь с ответами\n",
    "original_title = data_tmp.original_title.to_string(index=False)\n",
    "imdb_id = data_tmp.imdb_id.to_string(index=False)\n",
    "answers['2'] = f\"{original_title} ({imdb_id})\"\n",
    "\n",
    "print(answers['2'])  # вывод ответа для проверки"
   ]
  },
  {
   "cell_type": "markdown",
   "metadata": {
    "colab_type": "text",
    "id": "bapLlpW8Vp-k"
   },
   "source": [
    "# 3. Какой из фильмов самый короткий (в минутах)?"
   ]
  },
  {
   "cell_type": "code",
   "execution_count": 10,
   "metadata": {
    "colab": {},
    "colab_type": "code",
    "id": "YBxaSHuAVp-l"
   },
   "outputs": [
    {
     "name": "stdout",
     "output_type": "stream",
     "text": [
      "Winnie the Pooh (tt1449283)\n"
     ]
    }
   ],
   "source": [
    "data_tmp = data[data.runtime == data.runtime.min()]  # получение самого короткого по времени фильма\n",
    "    \n",
    "# далее получение названия и imdb_id фильма без индексов и сохранение в словарь с ответами\n",
    "original_title = data_tmp.original_title.to_string(index=False)\n",
    "imdb_id = data_tmp.imdb_id.to_string(index=False)\n",
    "answers['3'] = f\"{original_title} ({imdb_id})\"\n",
    "\n",
    "print(answers['3'])  # вывод ответа для проверки"
   ]
  },
  {
   "cell_type": "markdown",
   "metadata": {
    "colab_type": "text",
    "id": "TfQbxbfNVp-p"
   },
   "source": [
    "# 4. Какова средняя длительность фильмов?\n"
   ]
  },
  {
   "cell_type": "code",
   "execution_count": 11,
   "metadata": {
    "colab": {},
    "colab_type": "code",
    "id": "5K6dKZYVVp-q"
   },
   "outputs": [
    {
     "name": "stdout",
     "output_type": "stream",
     "text": [
      "110\n"
     ]
    }
   ],
   "source": [
    "data_tmp = round(data['runtime'].mean())  # получение округлённого значения\n",
    "answers['4'] = f\"{data_tmp}\"\n",
    "\n",
    "print(answers['4'])  # вывод ответа для проверки"
   ]
  },
  {
   "cell_type": "markdown",
   "metadata": {
    "colab_type": "text",
    "id": "r5TvbnT_Vp-u"
   },
   "source": [
    "# 5. Каково медианное значение длительности фильмов? "
   ]
  },
  {
   "cell_type": "code",
   "execution_count": 12,
   "metadata": {
    "colab": {},
    "colab_type": "code",
    "id": "iBROplKnVp-v"
   },
   "outputs": [
    {
     "name": "stdout",
     "output_type": "stream",
     "text": [
      "107\n"
     ]
    }
   ],
   "source": [
    "data_tmp = round(data['runtime'].median())  # получение медианного значения\n",
    "answers['5'] = f\"{data_tmp}\"\n",
    "\n",
    "print(answers['5'])  # вывод ответа для проверки"
   ]
  },
  {
   "cell_type": "markdown",
   "metadata": {
    "colab_type": "text",
    "id": "39P-deDSVp-y"
   },
   "source": [
    "# 6. Какой самый прибыльный фильм?\n",
    "#### Внимание! Здесь и далее под «прибылью» или «убытками» понимается разность между сборами и бюджетом фильма. (прибыль = сборы - бюджет) в нашем датасете это будет (profit = revenue - budget) "
   ]
  },
  {
   "cell_type": "code",
   "execution_count": 13,
   "metadata": {
    "colab": {},
    "colab_type": "code",
    "id": "UYZh4T9WVp-y"
   },
   "outputs": [
    {
     "name": "stdout",
     "output_type": "stream",
     "text": [
      "Avatar (tt0499549)\n"
     ]
    }
   ],
   "source": [
    "# лучше код получения столбца profit вынести в Предобработку что в начале\n",
    "\n",
    "# получение ответа, седержащегося в виде датафрейма с нужной строкой, использовав созданную колонку profit в предобработке\n",
    "data_tmp = data[data.profit == data.profit.max()]\n",
    "\n",
    "# далее получение названия и imdb_id фильма без индексов и сохранение в словарь с ответами\n",
    "original_title = data_tmp.original_title.to_string(index=False)\n",
    "imdb_id = data_tmp.imdb_id.to_string(index=False)\n",
    "answers['6'] = f\"{original_title} ({imdb_id})\"\n",
    "\n",
    "print(answers['6'])  # вывод ответа для проверки"
   ]
  },
  {
   "cell_type": "markdown",
   "metadata": {
    "colab_type": "text",
    "id": "M99JmIX4Vp-2"
   },
   "source": [
    "# 7. Какой фильм самый убыточный? "
   ]
  },
  {
   "cell_type": "code",
   "execution_count": 14,
   "metadata": {
    "colab": {},
    "colab_type": "code",
    "id": "w-D2m4XPVp-3"
   },
   "outputs": [
    {
     "name": "stdout",
     "output_type": "stream",
     "text": [
      "The Lone Ranger (tt1210819)\n"
     ]
    }
   ],
   "source": [
    "# получение ответа, седержащегося в виде датафрейма с нужной строкой, использовав созданную колонку profit в предобработке\n",
    "data_tmp = data[data.profit == data.profit.min()]\n",
    "\n",
    "# далее получение названия и imdb_id фильма без индексов и сохранение в словарь с ответами\n",
    "original_title = data_tmp.original_title.to_string(index=False)\n",
    "imdb_id = data_tmp.imdb_id.to_string(index=False)\n",
    "answers['7'] = f\"{original_title} ({imdb_id})\"\n",
    "\n",
    "print(answers['7'])  # вывод ответа для проверки"
   ]
  },
  {
   "cell_type": "markdown",
   "metadata": {
    "colab_type": "text",
    "id": "wEOM5ERVVp-6"
   },
   "source": [
    "# 8. У скольких фильмов из датасета объем сборов оказался выше бюджета?"
   ]
  },
  {
   "cell_type": "code",
   "execution_count": 15,
   "metadata": {
    "colab": {},
    "colab_type": "code",
    "id": "y00_7HD6Vp-7"
   },
   "outputs": [
    {
     "name": "stdout",
     "output_type": "stream",
     "text": [
      "1478\n"
     ]
    }
   ],
   "source": [
    "# используется созданная колонка profit в предобработке\n",
    "data_tmp = data[data.profit > 0]  # выборка всех фильмов у которых профит больше нуля\n",
    "value = len(data_tmp)\n",
    "\n",
    "answers['8'] = f\"{value}\"\n",
    "print(answers['8'])  # вывод ответа для проверки"
   ]
  },
  {
   "cell_type": "markdown",
   "metadata": {
    "colab_type": "text",
    "id": "xhpspA9KVp_A"
   },
   "source": [
    "# 9. Какой фильм оказался самым кассовым в 2008 году?"
   ]
  },
  {
   "cell_type": "code",
   "execution_count": 16,
   "metadata": {
    "colab": {},
    "colab_type": "code",
    "id": "MoUyQr9RVp_B"
   },
   "outputs": [
    {
     "name": "stdout",
     "output_type": "stream",
     "text": [
      "The Dark Knight (tt0468569)\n"
     ]
    }
   ],
   "source": [
    "data_tmp = data[(data.release_year == 2008)]  # сначала отбор всех фильмов 2008 года\n",
    "data_tmp = data_tmp[(data_tmp.revenue == data_tmp.revenue.max())]  # затем выбор фильмов с максимальным кассовым сбором\n",
    "\n",
    "# далее получение названия и imdb_id фильма без индексов и сохранение в словарь с ответами\n",
    "original_title = data_tmp.original_title.to_string(index=False)\n",
    "imdb_id = data_tmp.imdb_id.to_string(index=False)\n",
    "answers['9'] = f\"{original_title} ({imdb_id})\"\n",
    "\n",
    "print(answers['9'])  # вывод ответа для проверки"
   ]
  },
  {
   "cell_type": "markdown",
   "metadata": {
    "colab_type": "text",
    "id": "Zi4hDKidVp_F"
   },
   "source": [
    "# 10. Самый убыточный фильм за период с 2012 по 2014 г. (включительно)?\n"
   ]
  },
  {
   "cell_type": "code",
   "execution_count": 17,
   "metadata": {
    "colab": {},
    "colab_type": "code",
    "id": "XqyRmufJVp_F"
   },
   "outputs": [
    {
     "name": "stdout",
     "output_type": "stream",
     "text": [
      "The Lone Ranger (tt1210819)\n"
     ]
    }
   ],
   "source": [
    "# на этот раз используется функция query для отбора по условию\n",
    "data_tmp = data.query('2012 <= release_year <= 2014')  # сначала отбор всех фильмов с 2012 по 2014 годов выпуска\n",
    "data_tmp = data_tmp[(data_tmp.profit == data_tmp.profit.min())]  # затем выбор фильма с максимальным сбором\n",
    "\n",
    "# далее получение названия и imdb_id фильма без индексов и сохранение в словарь с ответами\n",
    "original_title = data_tmp.original_title.to_string(index=False)\n",
    "imdb_id = data_tmp.imdb_id.to_string(index=False)\n",
    "answers['10'] = f\"{original_title} ({imdb_id})\"\n",
    "\n",
    "print(answers['10'])  # вывод ответа для проверки"
   ]
  },
  {
   "cell_type": "markdown",
   "metadata": {
    "colab_type": "text",
    "id": "EA7Sa9dkVp_I"
   },
   "source": [
    "# 11. Какого жанра фильмов больше всего?"
   ]
  },
  {
   "cell_type": "code",
   "execution_count": 18,
   "metadata": {
    "colab": {},
    "colab_type": "code",
    "id": "zsJAwJ8QVp_J",
    "scrolled": true
   },
   "outputs": [
    {
     "name": "stdout",
     "output_type": "stream",
     "text": [
      "Drama\n"
     ]
    }
   ],
   "source": [
    "# эту задачу тоже можно решать разными подходами, попробуй реализовать разные варианты\n",
    "# если будешь добавлять функцию - выноси ее в предобработку что в начале\n",
    "\n",
    "data_genres = data[['genres']].copy()  # копирование датафрейма с нужными колонками\n",
    "data_genres['genres'] = data_genres.genres.str.split('|')  # преобразование строки в список по разделителю\n",
    "data_genres = data_genres.explode('genres')  # преобразование элементов списка в столбце в строку с репликацией строк по индексу\n",
    "\n",
    "counts = data_genres.genres.value_counts()  # количество по каждому жанру\n",
    "#genre_max = str(counts[counts == counts.max()].keys()[0])  # ключ с названием жанра с максимальным значением\n",
    "genre_max = str(counts[counts == counts.max()].idxmax())  # ключ с названием жанра с максимальным значением\n",
    "\n",
    "# сохранение в словарь ответов и вывод отвта для проверки\n",
    "answers['11'] = f\"{genre_max}\"\n",
    "print(answers['11'])"
   ]
  },
  {
   "cell_type": "markdown",
   "metadata": {
    "colab_type": "text",
    "id": "Ax6g2C8SVp_M"
   },
   "source": [
    "ВАРИАНТ 2"
   ]
  },
  {
   "cell_type": "code",
   "execution_count": 19,
   "metadata": {
    "colab": {},
    "colab_type": "code",
    "id": "otO3SbrSVp_N"
   },
   "outputs": [],
   "source": [
    "# лень, много времени уходит на прокрастинацию )"
   ]
  },
  {
   "cell_type": "markdown",
   "metadata": {},
   "source": [
    "#### Замечания и дополнения от менторов:\n",
    "В 11 вопросе для решения также подойдёт функция Counter()."
   ]
  },
  {
   "cell_type": "markdown",
   "metadata": {
    "colab_type": "text",
    "id": "T9_bPWpkVp_Q"
   },
   "source": [
    "# 12. Фильмы какого жанра чаще всего становятся прибыльными? "
   ]
  },
  {
   "cell_type": "code",
   "execution_count": 20,
   "metadata": {
    "colab": {},
    "colab_type": "code",
    "id": "Tmt8MaK1Vp_R"
   },
   "outputs": [
    {
     "name": "stdout",
     "output_type": "stream",
     "text": [
      "Drama\n"
     ]
    }
   ],
   "source": [
    "data_genres = data[['genres', 'profit']].copy()  # копирование датафрейма с нужными колонками\n",
    "data_genres = data_genres[data_genres['profit'] > 0]  # фильтр, профит больше нуля\n",
    "\n",
    "# обработка жанров\n",
    "data_genres['genres'] = data_genres.genres.str.split('|')  # преобразование строки в список по разделителю\n",
    "data_genres = data_genres.explode('genres')  # преобразование элементов списка в столбце в строку с репликацией строк по индексу\n",
    "data_genres = data_genres.genres.value_counts()  # подстчёт значений\n",
    "\n",
    "# сохранение в словарь ответов и вывод отвта для проверки\n",
    "answers['12'] = f\"{data_genres.index[0]}\"\n",
    "print(answers['12'])"
   ]
  },
  {
   "cell_type": "markdown",
   "metadata": {
    "colab_type": "text",
    "id": "0F23bgsDVp_U"
   },
   "source": [
    "# 13. У какого режиссера самые большие суммарные кассовые сборы?"
   ]
  },
  {
   "cell_type": "code",
   "execution_count": 21,
   "metadata": {
    "colab": {},
    "colab_type": "code",
    "id": "K6Z3J8ygVp_X"
   },
   "outputs": [
    {
     "name": "stdout",
     "output_type": "stream",
     "text": [
      "Peter Jackson\n"
     ]
    }
   ],
   "source": [
    "data_tmp = data[['director', 'revenue']].copy()  # копирование датафрейма с нужными колонками\n",
    "data_tmp['director'] = data_tmp.director.str.split('|')  # преобразование строки в список по разделителю\n",
    "data_tmp = data_tmp.explode('director')  # преобразование элементов списка в столбце в строку с репликацией строк по индексу\n",
    "\n",
    "director_profit = data_tmp.groupby('director').revenue.sum().idxmax()  # получим ответ с помощью\n",
    "# группировки столбца и суммированием профита\n",
    "\n",
    "# сохранение в словарь ответов и вывод отвта для проверки\n",
    "answers['13'] = f\"{director_profit}\"\n",
    "print(answers['13'])"
   ]
  },
  {
   "cell_type": "markdown",
   "metadata": {
    "colab_type": "text",
    "id": "PsYC9FgRVp_a"
   },
   "source": [
    "# 14. Какой режисер снял больше всего фильмов в стиле Action?"
   ]
  },
  {
   "cell_type": "code",
   "execution_count": 22,
   "metadata": {
    "colab": {},
    "colab_type": "code",
    "id": "wd2M-wHeVp_b"
   },
   "outputs": [
    {
     "name": "stdout",
     "output_type": "stream",
     "text": [
      "Robert Rodriguez\n"
     ]
    }
   ],
   "source": [
    "data_tmp = data[['director', 'genres']].copy()  # копирование датафрейма с нужными колонками\n",
    "\n",
    "# сначала обработка столбца genres\n",
    "data_tmp['genres'] = data_tmp.genres.str.split('|')  # преобразование строки в список по разделителю\n",
    "data_tmp = data_tmp.explode('genres')  # преобразование элементов списка в столбце в строку с репликацией строк по индексу\n",
    "\n",
    "# оставить только жанр Action\n",
    "data_tmp = data_tmp.query('genres == \"Action\"')\n",
    "\n",
    "# далее обработка столбца director\n",
    "data_tmp['director'] = data_tmp.director.str.split('|')  # преобразование строки в список по разделителю\n",
    "data_tmp = data_tmp.explode('director')  # преобразование элементов списка в столбце в строку с репликацией строк по индексу\n",
    "\n",
    "# получим ответ, используя группировку с подсчётом жанров, отбор режисёра с максимальным значением\n",
    "director_profit = data_tmp.groupby('director').count().idxmax()['genres']\n",
    "\n",
    "# сохранение в словарь ответов и вывод отвта для проверки\n",
    "answers['14'] = f\"{director_profit}\"\n",
    "print(answers['14'])"
   ]
  },
  {
   "cell_type": "code",
   "execution_count": 23,
   "metadata": {},
   "outputs": [
    {
     "name": "stdout",
     "output_type": "stream",
     "text": [
      "Robert Rodriguez\n"
     ]
    }
   ],
   "source": [
    "# ещё вариант, подсмотренный в Slack\n",
    "data_tmp = data[data.genres.str.contains(\"Action\")]  # отбор жанра\n",
    "data_tmp = data_tmp['director'].str.cat(sep='|')  # превращаем все в одну строку\n",
    "data_tmp = pd.Series(data_tmp.split('|'))  # создаем список разделяя строку по '|'\n",
    "data_tmp = data_tmp.value_counts(ascending=False)  # считаем количество элементов\n",
    "print(data_tmp.index[0])"
   ]
  },
  {
   "cell_type": "markdown",
   "metadata": {
    "colab_type": "text",
    "id": "PQ0KciD7Vp_f"
   },
   "source": [
    "# 15. Фильмы с каким актером принесли самые высокие кассовые сборы в 2012 году? "
   ]
  },
  {
   "cell_type": "code",
   "execution_count": 24,
   "metadata": {
    "colab": {},
    "colab_type": "code",
    "id": "aga62oeKVp_g"
   },
   "outputs": [
    {
     "name": "stdout",
     "output_type": "stream",
     "text": [
      "Chris Hemsworth\n"
     ]
    }
   ],
   "source": [
    "data_tmp = data[['cast', 'revenue', 'release_year']].copy()  # копирование датафрейма с нужными колонками\n",
    "\n",
    "data_tmp = data_tmp.query('release_year == 2012')  # отбор по году\n",
    "\n",
    "# обработка по актёрам\n",
    "data_tmp['cast'] = data_tmp.cast.str.split('|')  # преобразование строки в список по разделителю\n",
    "data_tmp = data_tmp.explode('cast')  # преобразование элементов списка в столбце в строку с репликацией строк по индексу\n",
    "\n",
    "# отбор актёров с максимальным кассовым сбором\n",
    "data_tmp = pd.pivot_table(data_tmp, values='revenue', index='cast', aggfunc='sum').nlargest(1, 'revenue')\n",
    "\n",
    "# сохранение в словарь ответов и вывод отвта для проверки\n",
    "answers['15'] = data_tmp['revenue'].index[0]\n",
    "print(answers['15'])"
   ]
  },
  {
   "cell_type": "markdown",
   "metadata": {
    "colab_type": "text",
    "id": "mWHyyL7QVp_j"
   },
   "source": [
    "# 16. Какой актер снялся в большем количестве высокобюджетных фильмов?"
   ]
  },
  {
   "cell_type": "code",
   "execution_count": 25,
   "metadata": {
    "colab": {},
    "colab_type": "code",
    "id": "qQtmHKTFVp_k"
   },
   "outputs": [
    {
     "name": "stdout",
     "output_type": "stream",
     "text": [
      "Matt Damon\n"
     ]
    }
   ],
   "source": [
    "# Примечание: в фильмах, где бюджет выше среднего по данной выборке.\n",
    "\n",
    "data_tmp = data[['cast', 'budget']].copy()  # копирование датафрейма с нужными колонками\n",
    "\n",
    "data_tmp = data_tmp[data_tmp.budget > data_tmp.budget.mean()]  # отбор бюджета больше среднего\n",
    "\n",
    "# обработка по актёрам\n",
    "data_tmp = data_tmp.cast.str.split('|')  # преобразование строки в список по разделителю\n",
    "data_tmp = pd.Series(data_tmp.sum()).value_counts()  # подстчёт количества элементов из проссумированных\n",
    "\n",
    "# сохранение в словарь ответов и вывод отвта для проверки\n",
    "answers['16'] = data_tmp.index[0]\n",
    "print(answers['16'])"
   ]
  },
  {
   "cell_type": "markdown",
   "metadata": {
    "colab_type": "text",
    "id": "NIh6AaW5Vp_n"
   },
   "source": [
    "# 17. В фильмах какого жанра больше всего снимался Nicolas Cage? "
   ]
  },
  {
   "cell_type": "code",
   "execution_count": 26,
   "metadata": {
    "colab": {},
    "colab_type": "code",
    "id": "H74SJDIBVp_n"
   },
   "outputs": [
    {
     "name": "stdout",
     "output_type": "stream",
     "text": [
      "Action\n"
     ]
    }
   ],
   "source": [
    "# Примечание: в фильмах, где бюджет выше среднего по данной выборке.\n",
    "\n",
    "data_tmp = data[['cast', 'genres']].copy()  # копирование датафрейма с нужными колонками\n",
    "\n",
    "data_tmp = data_tmp[data_tmp.cast.str.contains(\"Nicolas Cage\")]  # все фильмы с участием данного актёра\n",
    "data_tmp = data_tmp.genres.str.cat(sep='|')  # преобразование строки в список по разделителю\n",
    "data_tmp = pd.Series(data_tmp.split('|'))\n",
    "data_tmp = data_tmp.value_counts(ascending=False)  \n",
    "\n",
    "# сохранение в словарь ответов и вывод отвта для проверки\n",
    "answers['17'] = data_tmp.index[0]\n",
    "print(answers['17'])"
   ]
  },
  {
   "cell_type": "code",
   "execution_count": 27,
   "metadata": {},
   "outputs": [
    {
     "name": "stdout",
     "output_type": "stream",
     "text": [
      "Action\n"
     ]
    }
   ],
   "source": [
    "# второй способ\n",
    "\n",
    "data_tmp = data[['cast', 'genres']].copy()  # копирование датафрейма с нужными колонками\n",
    "\n",
    "data_tmp = data_tmp[data_tmp.cast.str.contains(\"Nicolas Cage\")]\n",
    "data_tmp = data_tmp.genres.str.split('|')\n",
    "data_tmp = pd.Series(data_tmp.sum()).value_counts()  # подстчёт количества элементов из проссумированных\n",
    "\n",
    "print(data_tmp.index[0])"
   ]
  },
  {
   "cell_type": "markdown",
   "metadata": {
    "colab_type": "text",
    "id": "RqOmPRfWVp_q"
   },
   "source": [
    "# 18. Самый убыточный фильм от Paramount Pictures"
   ]
  },
  {
   "cell_type": "code",
   "execution_count": 28,
   "metadata": {
    "colab": {},
    "colab_type": "code",
    "id": "9E_B0Y96Vp_r"
   },
   "outputs": [
    {
     "name": "stdout",
     "output_type": "stream",
     "text": [
      "K-19: The Widowmaker (tt0267626)\n"
     ]
    }
   ],
   "source": [
    "# отбор строк с нужными колонками с требуемой компанией\n",
    "dt = data[data['production_companies'].str.contains('Paramount Pictures', na=False)][['imdb_id', 'original_title', 'profit']]\n",
    "# отбор с самым минимальным профитом\n",
    "dt = dt[dt.profit == dt.profit.min()]\n",
    "\n",
    "# преобразование в строку без индекса и сохранение в словарь для ответов с наличием imdb_id в скобках\n",
    "answers['18'] = f\"{dt['original_title'].values[0]} ({dt['imdb_id'].values[0]})\"\n",
    "print(answers['18'])"
   ]
  },
  {
   "cell_type": "markdown",
   "metadata": {
    "colab_type": "text",
    "id": "vS8Ur6ddVp_u"
   },
   "source": [
    "# 19. Какой год стал самым успешным по суммарным кассовым сборам?"
   ]
  },
  {
   "cell_type": "code",
   "execution_count": 29,
   "metadata": {
    "colab": {},
    "colab_type": "code",
    "id": "Dnbt4GdIVp_v"
   },
   "outputs": [
    {
     "name": "stdout",
     "output_type": "stream",
     "text": [
      "2015\n"
     ]
    }
   ],
   "source": [
    "dt = data[['revenue', 'release_year']].copy()  # копирование данных с нужными колонками\n",
    "dt = dt.groupby('release_year')['revenue'].sum()  # группирование по колонке и подсчёт суммы\n",
    "# dt = dt.sort_values(ascending=False)  # сортировка по колонке по убыванию\n",
    "year = dt[dt == dt.max()]  # получение значения по максимальному индексу\n",
    "\n",
    "# сохранение в словарь для ответов\n",
    "answers['19'] = year.index[0]\n",
    "print(answers['19'])"
   ]
  },
  {
   "cell_type": "markdown",
   "metadata": {
    "colab_type": "text",
    "id": "JAzJh4QAVp_z"
   },
   "source": [
    "# 20. Какой самый прибыльный год для студии Warner Bros?"
   ]
  },
  {
   "cell_type": "code",
   "execution_count": 30,
   "metadata": {
    "colab": {},
    "colab_type": "code",
    "id": "wgVu02DEVp_0"
   },
   "outputs": [
    {
     "name": "stdout",
     "output_type": "stream",
     "text": [
      "2014\n"
     ]
    }
   ],
   "source": [
    "# отбор и копирование данных с нужными колонками\n",
    "dt = data[data['production_companies'].str.contains('Warner Bros')][['profit', 'release_year', 'production_companies']].copy()\n",
    "\n",
    "# группировка по годам и получение суммы для колонки profit, сортировка\n",
    "dt = dt.groupby('release_year').sum('profit').sort_values('profit', ascending=False)\n",
    "year = dt.profit.index[0]  # получение первого индекса с годом\n",
    "\n",
    "# сохранение в словарь для ответов\n",
    "answers['20'] = year\n",
    "print(answers['20'])"
   ]
  },
  {
   "cell_type": "markdown",
   "metadata": {
    "colab_type": "text",
    "id": "8Im1S2HRVp_4"
   },
   "source": [
    "# 21. В каком месяце за все годы суммарно вышло больше всего фильмов?"
   ]
  },
  {
   "cell_type": "code",
   "execution_count": 31,
   "metadata": {
    "colab": {},
    "colab_type": "code",
    "id": "lev6TH7gVp_4"
   },
   "outputs": [
    {
     "name": "stdout",
     "output_type": "stream",
     "text": [
      "Сентябрь\n"
     ]
    }
   ],
   "source": [
    "dt = data[['release_month']].copy()  # копирование колонки, которая создана в предобработке\n",
    "counts = dt['release_month'].value_counts()  # подсчёт месяцев\n",
    "month = counts[counts == counts.max()].index[0]  # номер месяца\n",
    "\n",
    "# сохранение в словарь для ответов\n",
    "answers['21'] = df_month[df_month.index == month]['month'].values[0]  # получение из словаря название месяца по номеру\n",
    "print(answers['21'])"
   ]
  },
  {
   "cell_type": "markdown",
   "metadata": {
    "colab_type": "text",
    "id": "uAJsZ_NeVp_7"
   },
   "source": [
    "# 22. Сколько суммарно вышло фильмов летом? (за июнь, июль, август)"
   ]
  },
  {
   "cell_type": "code",
   "execution_count": 32,
   "metadata": {
    "colab": {},
    "colab_type": "code",
    "id": "Aa-hEREoVp_8"
   },
   "outputs": [
    {
     "name": "stdout",
     "output_type": "stream",
     "text": [
      "450\n"
     ]
    }
   ],
   "source": [
    "# преобразование названий месяцев в числовое значение с помощью датафрейма\n",
    "s = ['Июнь', 'Июль', 'Август']\n",
    "num_month = ','.join(map(str, pd.Series(df_month.query(f'month in {s}').index).values))\n",
    "\n",
    "\n",
    "# получение строк с опеределёнными месяцами\n",
    "# вариант 1\n",
    "#count = data.query(f'release_month in [{num_month}]').value_counts('release_month').sum()\n",
    "# вариант 2 - лучше\n",
    "count = len(data.query(f'release_month in [{num_month}]'))  # используются числовые значения месяцев преобразованные из названий\n",
    "\n",
    "# сохранение в словарь для ответов\n",
    "answers['22'] = count\n",
    "print(answers['22'])"
   ]
  },
  {
   "cell_type": "markdown",
   "metadata": {
    "colab_type": "text",
    "id": "G94ppOY1VqAA"
   },
   "source": [
    "# 23. Для какого режиссера зима – самое продуктивное время года? "
   ]
  },
  {
   "cell_type": "code",
   "execution_count": 33,
   "metadata": {
    "colab": {},
    "colab_type": "code",
    "id": "RhNTsamuVqAB"
   },
   "outputs": [
    {
     "name": "stdout",
     "output_type": "stream",
     "text": [
      "Peter Jackson\n"
     ]
    }
   ],
   "source": [
    "# Какой режиссер выпускает (суммарно по годам) больше всего фильмов зимой?\n",
    "\n",
    "dt = data[['director', 'release_month']].copy()  # копирование данных с нужными колонками\n",
    "\n",
    "dt = dt.query('release_month in [12,1,2]')  # отбор всех строк с зимними месяцами\n",
    "dt['director'] = dt['director'].str.split('|')  # преобразование строки в список по разделителю\n",
    "dt = dt.explode('director')  # преобразование элементов списка в столбце в строку с репликацией\n",
    "dt = dt.groupby('director')['release_month'].count().sort_values(ascending=False)  # группировка и подсчёт количества по месяцам\n",
    "\n",
    "# вариант 2\n",
    "#dt = dt.pivot_table(index=['director'], aggfunc='count', values=['release_month']).nlargest(1, 'release_month')\n",
    "\n",
    "# сохранение в словарь для ответов\n",
    "answers['23'] = dt.index[0]\n",
    "print(answers['23'])"
   ]
  },
  {
   "cell_type": "markdown",
   "metadata": {
    "colab_type": "text",
    "id": "RBo0JVjVVqAF"
   },
   "source": [
    "# 24. Какая студия дает самые длинные названия своим фильмам по количеству символов?"
   ]
  },
  {
   "cell_type": "code",
   "execution_count": 34,
   "metadata": {
    "colab": {},
    "colab_type": "code",
    "id": "QRGS8L0iVqAG"
   },
   "outputs": [
    {
     "name": "stdout",
     "output_type": "stream",
     "text": [
      "Four By Two Productions\n"
     ]
    }
   ],
   "source": [
    "dt = data[['production_companies', 'original_title']].copy()  # копирование данных с нужными колонками\n",
    "\n",
    "# преобразование и эксплодинг\n",
    "dt['production_companies'] = dt['production_companies'].str.split('|')\n",
    "dt = dt.explode('production_companies')\n",
    "# создание колонки с длиной названий фильмов\n",
    "dt['title_len'] = dt['original_title'].str.len()\n",
    "# группировка по компаниям и вычисляет среднее значение, потом сортирует\n",
    "dt = dt.groupby(['production_companies'])['title_len'].mean().sort_values(ascending=False)\n",
    "\n",
    "# сохранение в словарь для ответов\n",
    "answers['24'] = dt.index[0]\n",
    "print(answers['24'])"
   ]
  },
  {
   "cell_type": "markdown",
   "metadata": {
    "colab_type": "text",
    "id": "9G0hbvR7VqAK"
   },
   "source": [
    "# 25. Описание фильмов какой студии в среднем самые длинные по количеству слов?"
   ]
  },
  {
   "cell_type": "code",
   "execution_count": 35,
   "metadata": {
    "colab": {},
    "colab_type": "code",
    "id": "Ge2GsLNxVqAK"
   },
   "outputs": [
    {
     "name": "stdout",
     "output_type": "stream",
     "text": [
      "Midnight Picture Show\n"
     ]
    }
   ],
   "source": [
    "dt = data[['production_companies', 'overview']].copy()  # копирование данных с нужными колонками\n",
    "\n",
    "# преобразование и эксплодинг\n",
    "dt['production_companies'] = dt['production_companies'].str.split('|')\n",
    "dt = dt.explode('production_companies')\n",
    "# создание колонки с количеством слов\n",
    "dt['overview_words'] = dt['overview'].str.split().str.len()\n",
    "# группировка, вычисление среднего значения и сортировка\n",
    "dt = dt.groupby(['production_companies'])['overview_words'].mean().sort_values(ascending=False)\n",
    "\n",
    "# сохранение в словарь для ответов\n",
    "answers['25'] = dt.index[0]\n",
    "print(answers['25'])"
   ]
  },
  {
   "cell_type": "markdown",
   "metadata": {
    "colab_type": "text",
    "id": "FJ1AFt90VqAP"
   },
   "source": [
    "# 26. Какие фильмы входят в 1 процент лучших по рейтингу? \n",
    "по vote_average"
   ]
  },
  {
   "cell_type": "code",
   "execution_count": 36,
   "metadata": {
    "colab": {},
    "colab_type": "code",
    "id": "8qmJVq4CVqAQ",
    "scrolled": true
   },
   "outputs": [
    {
     "name": "stdout",
     "output_type": "stream",
     "text": [
      "\n",
      "\n",
      "Весь список фильмов, которые входят в 1 процент лучших по рейтингу:\n"
     ]
    },
    {
     "data": {
      "text/html": [
       "<div>\n",
       "<style scoped>\n",
       "    .dataframe tbody tr th:only-of-type {\n",
       "        vertical-align: middle;\n",
       "    }\n",
       "\n",
       "    .dataframe tbody tr th {\n",
       "        vertical-align: top;\n",
       "    }\n",
       "\n",
       "    .dataframe thead th {\n",
       "        text-align: right;\n",
       "    }\n",
       "</style>\n",
       "<table border=\"1\" class=\"dataframe\">\n",
       "  <thead>\n",
       "    <tr style=\"text-align: right;\">\n",
       "      <th></th>\n",
       "      <th>original_title</th>\n",
       "      <th>vote_average</th>\n",
       "    </tr>\n",
       "  </thead>\n",
       "  <tbody>\n",
       "    <tr>\n",
       "      <th>9</th>\n",
       "      <td>Inside Out</td>\n",
       "      <td>8.0</td>\n",
       "    </tr>\n",
       "    <tr>\n",
       "      <th>34</th>\n",
       "      <td>Room</td>\n",
       "      <td>8.0</td>\n",
       "    </tr>\n",
       "    <tr>\n",
       "      <th>118</th>\n",
       "      <td>Interstellar</td>\n",
       "      <td>8.0</td>\n",
       "    </tr>\n",
       "    <tr>\n",
       "      <th>119</th>\n",
       "      <td>Guardians of the Galaxy</td>\n",
       "      <td>7.9</td>\n",
       "    </tr>\n",
       "    <tr>\n",
       "      <th>125</th>\n",
       "      <td>The Imitation Game</td>\n",
       "      <td>8.0</td>\n",
       "    </tr>\n",
       "    <tr>\n",
       "      <th>128</th>\n",
       "      <td>Gone Girl</td>\n",
       "      <td>7.9</td>\n",
       "    </tr>\n",
       "    <tr>\n",
       "      <th>138</th>\n",
       "      <td>The Grand Budapest Hotel</td>\n",
       "      <td>7.9</td>\n",
       "    </tr>\n",
       "    <tr>\n",
       "      <th>370</th>\n",
       "      <td>Inception</td>\n",
       "      <td>7.9</td>\n",
       "    </tr>\n",
       "    <tr>\n",
       "      <th>599</th>\n",
       "      <td>The Dark Knight</td>\n",
       "      <td>8.1</td>\n",
       "    </tr>\n",
       "    <tr>\n",
       "      <th>872</th>\n",
       "      <td>The Pianist</td>\n",
       "      <td>7.9</td>\n",
       "    </tr>\n",
       "    <tr>\n",
       "      <th>1081</th>\n",
       "      <td>The Lord of the Rings: The Return of the King</td>\n",
       "      <td>7.9</td>\n",
       "    </tr>\n",
       "    <tr>\n",
       "      <th>1183</th>\n",
       "      <td>The Wolf of Wall Street</td>\n",
       "      <td>7.9</td>\n",
       "    </tr>\n",
       "    <tr>\n",
       "      <th>1191</th>\n",
       "      <td>12 Years a Slave</td>\n",
       "      <td>7.9</td>\n",
       "    </tr>\n",
       "    <tr>\n",
       "      <th>1800</th>\n",
       "      <td>Memento</td>\n",
       "      <td>7.9</td>\n",
       "    </tr>\n",
       "  </tbody>\n",
       "</table>\n",
       "</div>"
      ],
      "text/plain": [
       "                                     original_title  vote_average\n",
       "9                                        Inside Out           8.0\n",
       "34                                             Room           8.0\n",
       "118                                    Interstellar           8.0\n",
       "119                         Guardians of the Galaxy           7.9\n",
       "125                              The Imitation Game           8.0\n",
       "128                                       Gone Girl           7.9\n",
       "138                        The Grand Budapest Hotel           7.9\n",
       "370                                       Inception           7.9\n",
       "599                                 The Dark Knight           8.1\n",
       "872                                     The Pianist           7.9\n",
       "1081  The Lord of the Rings: The Return of the King           7.9\n",
       "1183                        The Wolf of Wall Street           7.9\n",
       "1191                               12 Years a Slave           7.9\n",
       "1800                                        Memento           7.9"
      ]
     },
     "metadata": {},
     "output_type": "display_data"
    },
    {
     "name": "stdout",
     "output_type": "stream",
     "text": [
      "\n",
      "\n",
      "А это ответ после выборки названий из полученных топ фильмов:\n"
     ]
    },
    {
     "data": {
      "text/html": [
       "<div>\n",
       "<style scoped>\n",
       "    .dataframe tbody tr th:only-of-type {\n",
       "        vertical-align: middle;\n",
       "    }\n",
       "\n",
       "    .dataframe tbody tr th {\n",
       "        vertical-align: top;\n",
       "    }\n",
       "\n",
       "    .dataframe thead th {\n",
       "        text-align: right;\n",
       "    }\n",
       "</style>\n",
       "<table border=\"1\" class=\"dataframe\">\n",
       "  <thead>\n",
       "    <tr style=\"text-align: right;\">\n",
       "      <th></th>\n",
       "      <th>original_title</th>\n",
       "      <th>vote_average</th>\n",
       "    </tr>\n",
       "  </thead>\n",
       "  <tbody>\n",
       "    <tr>\n",
       "      <th>9</th>\n",
       "      <td>Inside Out</td>\n",
       "      <td>8.0</td>\n",
       "    </tr>\n",
       "    <tr>\n",
       "      <th>599</th>\n",
       "      <td>The Dark Knight</td>\n",
       "      <td>8.1</td>\n",
       "    </tr>\n",
       "    <tr>\n",
       "      <th>1191</th>\n",
       "      <td>12 Years a Slave</td>\n",
       "      <td>7.9</td>\n",
       "    </tr>\n",
       "  </tbody>\n",
       "</table>\n",
       "</div>"
      ],
      "text/plain": [
       "        original_title  vote_average\n",
       "9           Inside Out           8.0\n",
       "599    The Dark Knight           8.1\n",
       "1191  12 Years a Slave           7.9"
      ]
     },
     "metadata": {},
     "output_type": "display_data"
    },
    {
     "name": "stdout",
     "output_type": "stream",
     "text": [
      "Inside Out, The Dark Knight, 12 Years a Slave\n"
     ]
    }
   ],
   "source": [
    "dt = data[['original_title', 'vote_average']].copy()  # копирует данные с нужными колонками\n",
    "top_films = dt[dt['vote_average'] > dt['vote_average'].quantile(0.99)]  # получает все лучшие фильмы входящие в 1 процент\n",
    "\n",
    "print('\\n\\nВесь список фильмов, которые входят в 1 процент лучших по рейтингу:')\n",
    "display(top_films)  # выводит весь список полученных фильмов\n",
    "\n",
    "\n",
    "# далле только для записи ответа в словарь ответов\n",
    "a = [\n",
    "    ['Inside Out', 'The Dark Knight', '12 Years a Slave'],\n",
    "    ['BloodRayne', 'The Adventures of Rocky & Bullwinkle'],\n",
    "    ['Batman Begins', 'The Lord of the Rings: The Return of the King', 'Upside Down'],\n",
    "    ['300', 'Lucky Number Slevin', 'Kill Bill: Vol. 1'],\n",
    "    ['Upside Down', 'Inside Out', 'Iron Man']\n",
    "]  # сгруппированный список ответов для выборки\n",
    "aw = pd.DataFrame()  # создание пустого датафрейма для правильного результата, в случае неоднократного выполнения\n",
    "for group in a:  # цикл перебора групп с вариантами ответов\n",
    "    at = top_films.query(f'original_title in {str(group)}')  # из топ фильмов получает названия, которые есть в группе ответа\n",
    "    if len(at) == len(group):  # если количество полученных фильмов равно количеству в ответе\n",
    "        aw = at.copy()  # копирует полученное\n",
    "        break  # останавливает цикл\n",
    "\n",
    "print('\\n\\nА это ответ после выборки названий из полученных топ фильмов:')\n",
    "display(aw)  # отображение имеющихся названий\n",
    "\n",
    "# сохранение в словарь для ответов\n",
    "answers['26'] = ', '.join(aw['original_title'].values)\n",
    "print(answers['26'])"
   ]
  },
  {
   "cell_type": "markdown",
   "metadata": {},
   "source": [
    "#### Замечания и дополнения от менторов:\n",
    "В 26-м задании для решения также подойдет метод quantile:"
   ]
  },
  {
   "cell_type": "code",
   "execution_count": 37,
   "metadata": {},
   "outputs": [
    {
     "data": {
      "text/plain": [
       "9                                          Inside Out\n",
       "34                                               Room\n",
       "118                                      Interstellar\n",
       "119                           Guardians of the Galaxy\n",
       "125                                The Imitation Game\n",
       "128                                         Gone Girl\n",
       "138                          The Grand Budapest Hotel\n",
       "370                                         Inception\n",
       "599                                   The Dark Knight\n",
       "872                                       The Pianist\n",
       "1081    The Lord of the Rings: The Return of the King\n",
       "1183                          The Wolf of Wall Street\n",
       "1191                                 12 Years a Slave\n",
       "1800                                          Memento\n",
       "Name: original_title, dtype: object"
      ]
     },
     "execution_count": 37,
     "metadata": {},
     "output_type": "execute_result"
    }
   ],
   "source": [
    "data[data['vote_average']>data.quantile(0.99, numeric_only=True)['vote_average']]['original_title']"
   ]
  },
  {
   "cell_type": "markdown",
   "metadata": {
    "colab_type": "text",
    "id": "MdXsUXbCVqAV"
   },
   "source": [
    "# 27. Какие актеры чаще всего снимаются в одном фильме вместе?\n"
   ]
  },
  {
   "cell_type": "code",
   "execution_count": 38,
   "metadata": {},
   "outputs": [
    {
     "name": "stdout",
     "output_type": "stream",
     "text": [
      "Получили результат: {'Emma Watson & Rupert Grint', 'Daniel Radcliffe & Emma Watson', 'Daniel Radcliffe & Rupert Grint'}\n",
      "Отобрали из списка предложенных: Daniel Radcliffe & Rupert Grint\n"
     ]
    }
   ],
   "source": [
    "dt = data[['cast']].copy()  # копирует весь столбец с актёрами, этого достаточно\n",
    "\n",
    "dt.cast = dt.cast.str.split('|')\n",
    "# формирование всех возможных пар актёров в колонку pairs\n",
    "dt['pairs'] = dt.cast.apply(lambda x: list(it.combinations(sorted(x), 2)))\n",
    "# разбиение всех пар по отдельным строкам с формированием часто встречающихся вариантов\n",
    "dt = dt.explode('pairs').pairs.mode()\n",
    "# перезаписывает в формат удобный для сравнения с ответами\n",
    "dt = set(dt.apply(lambda x: f'{x[0]} & {x[1]}'))\n",
    "\n",
    "print('Получили результат:', dt)\n",
    "\n",
    "\n",
    "# далее идёт отбор нужного варианта ответа из списка предложенных\n",
    "a = {\n",
    "    'Johnny Depp & Helena Bonham Carter',\n",
    "    'Ben Stiller & Owen Wilson',\n",
    "    'Vin Diesel & Paul Walker',\n",
    "    'Adam Sandler & Kevin James',\n",
    "    'Daniel Radcliffe & Rupert Grint'\n",
    "}\n",
    "\n",
    "aw = str(dt.intersection(a)).strip('\\'{}')\n",
    "print('Отобрали из списка предложенных:', aw)\n",
    "\n",
    "# сохранение в словарь для ответов\n",
    "answers['27'] = aw"
   ]
  },
  {
   "cell_type": "markdown",
   "metadata": {
    "colab_type": "text",
    "id": "U0nONFnGVqAX"
   },
   "source": [
    "# Submission"
   ]
  },
  {
   "cell_type": "code",
   "execution_count": 39,
   "metadata": {
    "colab": {},
    "colab_type": "code",
    "id": "IfcaRO9-VqAX",
    "outputId": "0f132912-32bb-4196-c98c-abfbc4ad5a5f"
   },
   "outputs": [
    {
     "data": {
      "text/plain": [
       "{'1': 'Pirates of the Caribbean: On Stranger Tides (tt1298650)',\n",
       " '2': 'Gods and Generals (tt0279111)',\n",
       " '3': 'Winnie the Pooh (tt1449283)',\n",
       " '4': '110',\n",
       " '5': '107',\n",
       " '6': 'Avatar (tt0499549)',\n",
       " '7': 'The Lone Ranger (tt1210819)',\n",
       " '8': '1478',\n",
       " '9': 'The Dark Knight (tt0468569)',\n",
       " '10': 'The Lone Ranger (tt1210819)',\n",
       " '11': 'Drama',\n",
       " '12': 'Drama',\n",
       " '13': 'Peter Jackson',\n",
       " '14': 'Robert Rodriguez',\n",
       " '15': 'Chris Hemsworth',\n",
       " '16': 'Matt Damon',\n",
       " '17': 'Action',\n",
       " '18': 'K-19: The Widowmaker (tt0267626)',\n",
       " '19': 2015,\n",
       " '20': 2014,\n",
       " '21': 'Сентябрь',\n",
       " '22': 450,\n",
       " '23': 'Peter Jackson',\n",
       " '24': 'Four By Two Productions',\n",
       " '25': 'Midnight Picture Show',\n",
       " '26': 'Inside Out, The Dark Knight, 12 Years a Slave',\n",
       " '27': 'Daniel Radcliffe & Rupert Grint'}"
      ]
     },
     "execution_count": 39,
     "metadata": {},
     "output_type": "execute_result"
    }
   ],
   "source": [
    "# в конце можно посмотреть свои ответы к каждому вопросу\n",
    "answers"
   ]
  },
  {
   "cell_type": "code",
   "execution_count": 40,
   "metadata": {
    "colab": {},
    "colab_type": "code",
    "id": "SiRmHPl8VqAd"
   },
   "outputs": [
    {
     "data": {
      "text/plain": [
       "27"
      ]
     },
     "execution_count": 40,
     "metadata": {},
     "output_type": "execute_result"
    }
   ],
   "source": [
    "# и убедиться что ни чего не пропустил)\n",
    "len(answers)"
   ]
  },
  {
   "cell_type": "code",
   "execution_count": null,
   "metadata": {
    "colab": {},
    "colab_type": "code",
    "id": "Vwx3NrkSVqAl"
   },
   "outputs": [],
   "source": []
  }
 ],
 "metadata": {
  "colab": {
   "name": "Copy of [SF-DST] Movies IMBD v4.1 TEMPLATE.ipynb",
   "provenance": []
  },
  "kernelspec": {
   "display_name": "Python 3",
   "language": "python",
   "name": "python3"
  },
  "language_info": {
   "codemirror_mode": {
    "name": "ipython",
    "version": 3
   },
   "file_extension": ".py",
   "mimetype": "text/x-python",
   "name": "python",
   "nbconvert_exporter": "python",
   "pygments_lexer": "ipython3",
   "version": "3.8.8"
  }
 },
 "nbformat": 4,
 "nbformat_minor": 1
}
